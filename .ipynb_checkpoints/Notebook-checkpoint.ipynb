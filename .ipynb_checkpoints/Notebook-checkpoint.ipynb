{
 "cells": [
  {
   "cell_type": "code",
   "execution_count": null,
   "metadata": {
    "id": "tHN0EzEo5mrT"
   },
   "outputs": [],
   "source": [
    "from pyspark.mllib.recommendation import ALS\n",
    "import math\n",
    "from pyspark import SparkContext\n",
    "import os"
   ]
  },
  {
   "cell_type": "code",
   "execution_count": null,
   "metadata": {
    "colab": {
     "base_uri": "https://localhost:8080/"
    },
    "id": "GfiR8j_5uThh",
    "outputId": "2d0f4146-d31c-45eb-9a9c-995dbfd37437"
   },
   "outputs": [
    {
     "name": "stdout",
     "output_type": "stream",
     "text": [
      "Mounted at /content/drive\n"
     ]
    }
   ],
   "source": [
    "from google.colab import drive\n",
    "drive.mount('/content/drive')"
   ]
  },
  {
   "cell_type": "code",
   "execution_count": null,
   "metadata": {
    "id": "wM9JndVIuoIa"
   },
   "outputs": [],
   "source": [
    "datasets_path = \"/content/drive/MyDrive/CineBuddy-master/datasets\""
   ]
  },
  {
   "cell_type": "code",
   "execution_count": null,
   "metadata": {
    "id": "U-ysUsjsw41G"
   },
   "outputs": [],
   "source": [
    "sc =SparkContext()"
   ]
  },
  {
   "cell_type": "code",
   "execution_count": null,
   "metadata": {
    "id": "E9zQILRIucba"
   },
   "outputs": [],
   "source": [
    "small_ratings_file = os.path.join(datasets_path, 'ml-latest-small', 'ratings.csv')\n",
    "\n",
    "rating = sc.textFile(small_ratings_file)\n",
    "rating_header = rating.take(1)[0]"
   ]
  },
  {
   "cell_type": "code",
   "execution_count": null,
   "metadata": {
    "id": "xvWAf18-utwJ"
   },
   "outputs": [],
   "source": [
    "rating = rating.filter(lambda line: line!=rating_header).map(lambda line: line.split(\",\")).map(lambda tokens: (tokens[0],tokens[1],tokens[2])).cache()\n"
   ]
  },
  {
   "cell_type": "code",
   "execution_count": null,
   "metadata": {
    "colab": {
     "base_uri": "https://localhost:8080/"
    },
    "id": "njHnE_E7xzRz",
    "outputId": "15c8ecce-c9e3-4e02-e098-68d7bf73605f"
   },
   "outputs": [
    {
     "data": {
      "text/plain": [
       "[('1', '31', '2.5'), ('1', '1029', '3.0'), ('1', '1061', '3.0')]"
      ]
     },
     "execution_count": 8,
     "metadata": {
      "tags": []
     },
     "output_type": "execute_result"
    }
   ],
   "source": [
    "rating.take(3)\n"
   ]
  },
  {
   "cell_type": "code",
   "execution_count": null,
   "metadata": {
    "colab": {
     "base_uri": "https://localhost:8080/"
    },
    "id": "FC9Yq65Fx1wT",
    "outputId": "2d75b2d0-e849-4774-ffd4-86be04c3978b"
   },
   "outputs": [
    {
     "data": {
      "text/plain": [
       "[('1', 'Toy Story (1995)', 'Adventure|Animation|Children|Comedy|Fantasy'),\n",
       " ('2', 'Jumanji (1995)', 'Adventure|Children|Fantasy'),\n",
       " ('3', 'Grumpier Old Men (1995)', 'Comedy|Romance')]"
      ]
     },
     "execution_count": 9,
     "metadata": {
      "tags": []
     },
     "output_type": "execute_result"
    }
   ],
   "source": [
    "small_movies_file = os.path.join(datasets_path, 'ml-latest-small', 'movies.csv')\n",
    "\n",
    "movie = sc.textFile(small_movies_file)\n",
    "movie_header = movie.take(1)[0]\n",
    "movie_header\n",
    "movie = movie.filter(lambda line: line!=movie_header).map(lambda line: line.split(\",\")).map(lambda tokens: (tokens[0],tokens[1],tokens[2])).cache()\n",
    "movie.take(3)"
   ]
  },
  {
   "cell_type": "code",
   "execution_count": null,
   "metadata": {
    "id": "LDwotYeLyM3m"
   },
   "outputs": [],
   "source": [
    "training_RDD, validation_RDD, test_RDD = rating.randomSplit([6, 2, 2], seed=42)\n",
    "validation_for_predict_RDD = validation_RDD.map(lambda x: (x[0],x[1]))\n",
    "test_for_predict_RDD = test_RDD.map(lambda x: (x[0],x[1]))"
   ]
  },
  {
   "cell_type": "code",
   "execution_count": null,
   "metadata": {
    "colab": {
     "base_uri": "https://localhost:8080/"
    },
    "id": "ZZsHD2rWyg46",
    "outputId": "6e760158-16dd-4c02-cdd6-4f293fcab65a"
   },
   "outputs": [
    {
     "data": {
      "text/plain": [
       "[('1', '1263'),\n",
       " ('1', '1953'),\n",
       " ('2', '10'),\n",
       " ('2', '39'),\n",
       " ('2', '144'),\n",
       " ('2', '161'),\n",
       " ('2', '225'),\n",
       " ('2', '266'),\n",
       " ('2', '272'),\n",
       " ('2', '292')]"
      ]
     },
     "execution_count": 11,
     "metadata": {
      "tags": []
     },
     "output_type": "execute_result"
    }
   ],
   "source": [
    "validation_for_predict_RDD.take(10)\n"
   ]
  },
  {
   "cell_type": "code",
   "execution_count": null,
   "metadata": {
    "colab": {
     "base_uri": "https://localhost:8080/"
    },
    "id": "zNt5hihJyp86",
    "outputId": "a1645511-522f-4333-8335-360c6074fc7c"
   },
   "outputs": [
    {
     "name": "stdout",
     "output_type": "stream",
     "text": [
      "For rank 4 the RMSE is 0.940561804825594\n",
      "For rank 8 the RMSE is 0.9509674656922942\n",
      "For rank 12 the RMSE is 0.9464591395118106\n"
     ]
    }
   ],
   "source": [
    "seed = 5\n",
    "iterations = 10\n",
    "regularization_parameter = 0.1\n",
    "ranks = [4, 8, 12]\n",
    "errors = [0, 0, 0]\n",
    "err = 0\n",
    "tolerance = 0.02\n",
    "\n",
    "min_error = float('inf')\n",
    "best_rank = -1\n",
    "best_iteration = -1\n",
    "for rank in ranks:\n",
    "    model = ALS.train(training_RDD, rank, seed=seed, iterations=iterations, lambda_=regularization_parameter)\n",
    "    predictions = model.predictAll(validation_for_predict_RDD).map(lambda r: ((r[0], r[1]), r[2]))\n",
    "    rates_and_preds = validation_RDD.map(lambda r: ((int(r[0]), int(r[1])), float(r[2]))).join(predictions)\n",
    "    error = math.sqrt(rates_and_preds.map(lambda r: (r[1][0] - r[1][1])**2).mean())\n",
    "    errors[err] = error\n",
    "    err += 1\n",
    "    print ('For rank %s the RMSE is %s' % (rank, error))\n",
    "    if error < min_error:\n",
    "        min_error = error\n",
    "        best_rank = rank"
   ]
  },
  {
   "cell_type": "code",
   "execution_count": null,
   "metadata": {
    "colab": {
     "base_uri": "https://localhost:8080/"
    },
    "id": "K-hKVsRvy0AI",
    "outputId": "32fcf998-9cd1-45bd-950a-e04c333fdd15"
   },
   "outputs": [
    {
     "data": {
      "text/plain": [
       "[((1, 1953), (4.0, 3.002893915790655)),\n",
       " ((2, 144), (3.0, 3.0556840050756042)),\n",
       " ((2, 272), (3.0, 3.577331225126056)),\n",
       " ((2, 292), (3.0, 3.6124014714233956)),\n",
       " ((2, 616), (3.0, 3.484478481389996)),\n",
       " ((3, 595), (2.0, 3.565013580065013)),\n",
       " ((3, 44191), (3.5, 3.721427993966543)),\n",
       " ((4, 410), (3.0, 3.5038524111025913)),\n",
       " ((4, 1210), (5.0, 4.544828637149842)),\n",
       " ((4, 1282), (5.0, 4.759239586294552))]"
      ]
     },
     "execution_count": 13,
     "metadata": {
      "tags": []
     },
     "output_type": "execute_result"
    }
   ],
   "source": [
    "rates_and_preds.take(10)"
   ]
  },
  {
   "cell_type": "code",
   "execution_count": null,
   "metadata": {
    "colab": {
     "base_uri": "https://localhost:8080/"
    },
    "id": "w0IrSoJaz_vq",
    "outputId": "55c18fa4-146e-4e46-c47c-284fe2ce89dd"
   },
   "outputs": [
    {
     "name": "stdout",
     "output_type": "stream",
     "text": [
      "For testing data the RMSE is 0.9515417584748112\n"
     ]
    }
   ],
   "source": [
    "model = ALS.train(training_RDD, best_rank, seed=seed, iterations=iterations,\n",
    "                      lambda_=regularization_parameter)\n",
    "predictions = model.predictAll(test_for_predict_RDD).map(lambda r: ((r[0], r[1]), r[2]))\n",
    "rates_and_preds = test_RDD.map(lambda r: ((int(r[0]), int(r[1])), float(r[2]))).join(predictions)\n",
    "error = math.sqrt(rates_and_preds.map(lambda r: (r[1][0] - r[1][1])**2).mean())\n",
    "    \n",
    "print('For testing data the RMSE is %s' % (error))"
   ]
  },
  {
   "cell_type": "code",
   "execution_count": null,
   "metadata": {
    "colab": {
     "base_uri": "https://localhost:8080/"
    },
    "id": "VFikzVAI0HAw",
    "outputId": "ef529970-2f9e-416a-cf40-ed4a36d74f13"
   },
   "outputs": [
    {
     "name": "stdout",
     "output_type": "stream",
     "text": [
      "There are 100004 recommendations in the complete dataset\n"
     ]
    }
   ],
   "source": [
    "print(\"There are %s recommendations in the complete dataset\" % (rating.count()))\n"
   ]
  },
  {
   "cell_type": "code",
   "execution_count": null,
   "metadata": {
    "id": "BE9bp9pb0N2r"
   },
   "outputs": [],
   "source": [
    "def get_counts_and_averages(ID_and_ratings_tuple):\n",
    "    nratings = len(ID_and_ratings_tuple[1])\n",
    "    sumTotal=0\n",
    "    for i in range(0,nratings):\n",
    "      sumTotal+=float(str(ID_and_ratings_tuple[1][i]))\n",
    "    return ID_and_ratings_tuple[0], (nratings,sumTotal/nratings)\n",
    "\n",
    "#rating ada 3 kolom, diambil movie_id dan ratingnya... untuk movie yang sama di group dari movie_id... \n",
    "#jadinya movie_id,(rating1,rating2,...)\n",
    "\n",
    "movie_ID_with_ratings_RDD = (rating.map(lambda x: (x[1], x[2])).groupByKey()).map(lambda x: (x[0],list(x[1])))\n",
    "\n",
    "#dicari average dari rating untuk film itu\n",
    "movie_ID_with_avg_ratings_RDD = movie_ID_with_ratings_RDD.map(get_counts_and_averages)\n",
    "movie_rating_counts_RDD = movie_ID_with_avg_ratings_RDD.map(lambda x: (int(x[0]), x[1]))\n"
   ]
  },
  {
   "cell_type": "code",
   "execution_count": null,
   "metadata": {
    "colab": {
     "base_uri": "https://localhost:8080/"
    },
    "id": "fZhCxsbC0SjR",
    "outputId": "92f7c0df-b240-4b2e-8092-936a45c9e0e3"
   },
   "outputs": [
    {
     "data": {
      "text/plain": [
       "[(1129, (48, 3.3125))]"
      ]
     },
     "execution_count": 17,
     "metadata": {
      "tags": []
     },
     "output_type": "execute_result"
    }
   ],
   "source": [
    "movie_rating_counts_RDD.take(1)\n"
   ]
  },
  {
   "cell_type": "code",
   "execution_count": null,
   "metadata": {
    "colab": {
     "base_uri": "https://localhost:8080/"
    },
    "id": "MNb2wWSk0WtU",
    "outputId": "0aeb5528-12bc-4cf4-8e19-03948a56a8fb"
   },
   "outputs": [
    {
     "name": "stdout",
     "output_type": "stream",
     "text": [
      "New user ratings: [(0, 260, 4), (0, 1, 3), (0, 16, 3), (0, 25, 4), (0, 32, 4), (0, 335, 1), (0, 379, 1), (0, 296, 3), (0, 858, 5), (0, 50, 4)]\n"
     ]
    }
   ],
   "source": [
    "new_user_ID = 0\n",
    "\n",
    "# The format of each line is (userID, movieID, rating)\n",
    "new_user_ratings = [\n",
    "     (0,260,4), # Star Wars (1977)\n",
    "     (0,1,3), # Toy Story (1995)\n",
    "     (0,16,3), # Casino (1995)\n",
    "     (0,25,4), # Leaving Las Vegas (1995)\n",
    "     (0,32,4), # Twelve Monkeys (a.k.a. 12 Monkeys) (1995)\n",
    "     (0,335,1), # Flintstones, The (1994)\n",
    "     (0,379,1), # Timecop (1994)\n",
    "     (0,296,3), # Pulp Fiction (1994)\n",
    "     (0,858,5) , # Godfather, The (1972)\n",
    "     (0,50,4) # Usual Suspects, The (1995)\n",
    "    ]\n",
    "new_user_ratings_RDD = sc.parallelize(new_user_ratings)\n",
    "print('New user ratings: %s' % new_user_ratings_RDD.take(10))"
   ]
  },
  {
   "cell_type": "code",
   "execution_count": null,
   "metadata": {
    "id": "BW8wAf6H0afd"
   },
   "outputs": [],
   "source": [
    "complete_data_with_new_ratings_RDD = rating.union(new_user_ratings_RDD)\n"
   ]
  },
  {
   "cell_type": "code",
   "execution_count": null,
   "metadata": {
    "colab": {
     "base_uri": "https://localhost:8080/"
    },
    "id": "Nxkyd0eW0dqV",
    "outputId": "d72b0f6d-5534-4519-b986-b48fde47ebf9"
   },
   "outputs": [
    {
     "name": "stdout",
     "output_type": "stream",
     "text": [
      "New model trained in 4.064 seconds\n"
     ]
    }
   ],
   "source": [
    "from time import time\n",
    "\n",
    "t0 = time()\n",
    "new_ratings_model = ALS.train(complete_data_with_new_ratings_RDD, best_rank, seed=seed, \n",
    "                              iterations=iterations, lambda_=regularization_parameter)\n",
    "tt = time() - t0\n",
    "\n",
    "print(\"New model trained in %s seconds\" % round(tt,3))\n"
   ]
  },
  {
   "cell_type": "code",
   "execution_count": null,
   "metadata": {
    "id": "Knqpv11s0h_d"
   },
   "outputs": [],
   "source": [
    "new_user_ratings_ids = map(lambda x: x[1], new_user_ratings) # get just movie IDs\n",
    "# keep just those not on the ID list (thanks Lei Li for spotting the error!)\n",
    "new_user_unrated_movies_RDD = (movie.filter(lambda x: x[0] not in new_user_ratings_ids).map(lambda x: (new_user_ID, x[0])))\n",
    "\n",
    "# Use the input RDD, new_user_unrated_movies_RDD, with new_ratings_model.predictAll() to predict new ratings for the movies\n",
    "new_user_recommendations_RDD = new_ratings_model.predictAll(new_user_unrated_movies_RDD)"
   ]
  },
  {
   "cell_type": "code",
   "execution_count": null,
   "metadata": {
    "colab": {
     "base_uri": "https://localhost:8080/"
    },
    "id": "34iYOFi30nn-",
    "outputId": "bc971daf-122e-488c-a1e0-a2772b1dfc62"
   },
   "outputs": [
    {
     "data": {
      "text/plain": [
       "[(1, 'Toy Story (1995)')]"
      ]
     },
     "execution_count": 22,
     "metadata": {
      "tags": []
     },
     "output_type": "execute_result"
    }
   ],
   "source": [
    "complete_movies_titles =  movie.map(lambda x: (int(x[0]),x[1]))\n",
    "complete_movies_titles.take(1)"
   ]
  },
  {
   "cell_type": "code",
   "execution_count": null,
   "metadata": {
    "colab": {
     "base_uri": "https://localhost:8080/"
    },
    "id": "iC_mxk2u0rcK",
    "outputId": "9ffca374-0bb1-4edd-a072-06856d1376e0"
   },
   "outputs": [
    {
     "data": {
      "text/plain": [
       "[(81132, ((3.207710379005258, 'Rubber (2010)'), (1, 4.0))),\n",
       " (7020, ((3.3292780165416422, 'Proof (1991)'), (1, 4.0))),\n",
       " (204,\n",
       "  ((1.6501908759434194, 'Under Siege 2: Dark Territory (1995)'), (31, 3.0)))]"
      ]
     },
     "execution_count": 23,
     "metadata": {
      "tags": []
     },
     "output_type": "execute_result"
    }
   ],
   "source": [
    "new_user_recommendations_rating_RDD = new_user_recommendations_RDD.map(lambda x: (x.product, x.rating))\n",
    "new_user_recommendations_rating_title_and_count_RDD = \\\n",
    "    new_user_recommendations_rating_RDD.join(complete_movies_titles).join(movie_rating_counts_RDD)\n",
    "  \n",
    "new_user_recommendations_rating_title_and_count_RDD.take(3)"
   ]
  },
  {
   "cell_type": "code",
   "execution_count": null,
   "metadata": {
    "colab": {
     "base_uri": "https://localhost:8080/"
    },
    "id": "S2Cj2l3j0ujk",
    "outputId": "09432610-44b2-498d-b9f1-67e609d0ad1b"
   },
   "outputs": [
    {
     "data": {
      "text/plain": [
       "[(1084, (3.6464361253112294, 'Bonnie and Clyde (1967)'))]"
      ]
     },
     "execution_count": 24,
     "metadata": {
      "tags": []
     },
     "output_type": "execute_result"
    }
   ],
   "source": [
    "new_user_recommendations_rating_RDD.join(complete_movies_titles).take(1)\n"
   ]
  },
  {
   "cell_type": "code",
   "execution_count": null,
   "metadata": {
    "colab": {
     "base_uri": "https://localhost:8080/"
    },
    "id": "FgGnpwbT0zdx",
    "outputId": "667dc04b-ab2c-4ef3-ba51-f2e1fad80ecc"
   },
   "outputs": [
    {
     "data": {
      "text/plain": [
       "[(1129, (48, 3.3125))]"
      ]
     },
     "execution_count": 25,
     "metadata": {
      "tags": []
     },
     "output_type": "execute_result"
    }
   ],
   "source": [
    "movie_rating_counts_RDD.take(1)\n"
   ]
  },
  {
   "cell_type": "code",
   "execution_count": null,
   "metadata": {
    "colab": {
     "base_uri": "https://localhost:8080/"
    },
    "id": "gdrMyVb900_b",
    "outputId": "99212e4d-eb72-4ff9-8652-8a17fd592ff5"
   },
   "outputs": [
    {
     "data": {
      "text/plain": [
       "[(81132, ((3.207710379005258, 'Rubber (2010)'), (1, 4.0)))]"
      ]
     },
     "execution_count": 26,
     "metadata": {
      "tags": []
     },
     "output_type": "execute_result"
    }
   ],
   "source": [
    "new_user_recommendations_rating_title_and_count_RDD.take(1)\n"
   ]
  },
  {
   "cell_type": "code",
   "execution_count": null,
   "metadata": {
    "colab": {
     "base_uri": "https://localhost:8080/"
    },
    "id": "H4Fit59x02zJ",
    "outputId": "ef7de1ee-4cd5-4c39-e71d-6fb2bda7b23c"
   },
   "outputs": [
    {
     "data": {
      "text/plain": [
       "[('Rubber (2010)', 3.207710379005258, (1, 4.0)),\n",
       " ('Proof (1991)', 3.3292780165416422, (1, 4.0)),\n",
       " ('Under Siege 2: Dark Territory (1995)', 1.6501908759434194, (31, 3.0)),\n",
       " ('Kate & Leopold (2001)', 1.02981923825444, (10, 2.8)),\n",
       " ('Exit Wounds (2001)', 1.081200602619809, (2, 2.25)),\n",
       " ('Career Girls (1997)', 2.0104387343658807, (3, 2.3333333333333335)),\n",
       " ('Rain (1932)', 1.5503804852018828, (1, 3.0)),\n",
       " ('\"Hospital', 3.338271622711792, (1, 3.5)),\n",
       " ('Grosse Pointe Blank (1997)', 3.3707815804713697, (64, 3.96875)),\n",
       " ('\"Scout', 1.227754032044226, (2, 2.5))]"
      ]
     },
     "execution_count": 27,
     "metadata": {
      "tags": []
     },
     "output_type": "execute_result"
    }
   ],
   "source": [
    "rating_title_and_count = new_user_recommendations_rating_title_and_count_RDD.map(lambda r: (r[1][0][1], r[1][0][0], r[1][1]))\n",
    "rating_title_and_count.take(10)"
   ]
  },
  {
   "cell_type": "code",
   "execution_count": null,
   "metadata": {
    "colab": {
     "base_uri": "https://localhost:8080/"
    },
    "id": "3r4XxTUa06aZ",
    "outputId": "92189c16-8a29-4030-aa03-5154938c639c"
   },
   "outputs": [
    {
     "name": "stdout",
     "output_type": "stream",
     "text": [
      "TOP recommended movies (with more than 25 reviews):\n",
      "('Cinema Paradiso (Nuovo cinema Paradiso) (1989)', 4.382523039538473, (46, 4.260869565217392))\n",
      "('Brokeback Mountain (2005)', 4.2157450585284835, (29, 3.6206896551724137))\n",
      "('\"Remains of the Day', 4.182096515359948, (46, 4.043478260869565))\n",
      "('Modern Times (1936)', 4.167324500109649, (32, 4.359375))\n",
      "('All About Eve (1950)', 4.1567886519244475, (38, 4.434210526315789))\n",
      "('Bringing Up Baby (1938)', 4.131534398577507, (30, 4.066666666666666))\n",
      "('\"Room with a View', 4.104672436174003, (31, 3.8225806451612905))\n",
      "('Dr. Strangelove or: How I Learned to Stop Worrying and Love the Bomb (1964)', 4.059253469484851, (105, 4.20952380952381))\n",
      "('\"Third Man', 4.05854109321448, (38, 4.25))\n",
      "('\"Amelie (Fabuleux destin d\\'Amélie Poulain', 4.053343805797935, (125, 4.096))\n"
     ]
    }
   ],
   "source": [
    "top_movies = rating_title_and_count.filter(lambda r: r[2][0]>=25).takeOrdered(10, key=lambda x: -x[1])\n",
    "print ('TOP recommended movies (with more than 25 reviews):\\n%s' %\n",
    "        '\\n'.join(map(str, top_movies)))"
   ]
  },
  {
   "cell_type": "code",
   "execution_count": null,
   "metadata": {
    "colab": {
     "base_uri": "https://localhost:8080/"
    },
    "id": "yBQLZHZo3lOt",
    "outputId": "512d3336-660f-44df-9c95-a360f009e13d"
   },
   "outputs": [
    {
     "data": {
      "text/plain": [
       "[('Cinema Paradiso (Nuovo cinema Paradiso) (1989)',\n",
       "  4.382523039538473,\n",
       "  (46, 4.260869565217392)),\n",
       " ('Brokeback Mountain (2005)', 4.2157450585284835, (29, 3.6206896551724137)),\n",
       " ('\"Remains of the Day', 4.182096515359948, (46, 4.043478260869565)),\n",
       " ('Modern Times (1936)', 4.167324500109649, (32, 4.359375)),\n",
       " ('All About Eve (1950)', 4.1567886519244475, (38, 4.434210526315789)),\n",
       " ('Bringing Up Baby (1938)', 4.131534398577507, (30, 4.066666666666666)),\n",
       " ('\"Room with a View', 4.104672436174003, (31, 3.8225806451612905)),\n",
       " ('Dr. Strangelove or: How I Learned to Stop Worrying and Love the Bomb (1964)',\n",
       "  4.059253469484851,\n",
       "  (105, 4.20952380952381)),\n",
       " ('\"Third Man', 4.05854109321448, (38, 4.25)),\n",
       " ('\"Amelie (Fabuleux destin d\\'Amélie Poulain',\n",
       "  4.053343805797935,\n",
       "  (125, 4.096))]"
      ]
     },
     "execution_count": 29,
     "metadata": {
      "tags": []
     },
     "output_type": "execute_result"
    }
   ],
   "source": [
    "top_movies"
   ]
  },
  {
   "cell_type": "code",
   "execution_count": null,
   "metadata": {
    "id": "JkyEGLWs4rig"
   },
   "outputs": [],
   "source": [
    "import pandas as pd\n",
    "data=pd.DataFrame({\n",
    "    'Info':top_movies\n",
    "})"
   ]
  },
  {
   "cell_type": "code",
   "execution_count": null,
   "metadata": {
    "id": "rsbxG1qy5QzQ"
   },
   "outputs": [],
   "source": [
    "data.to_csv('Top_10_movies.csv',index=False)"
   ]
  },
  {
   "cell_type": "code",
   "execution_count": null,
   "metadata": {
    "id": "f2DNh0Yl5Z3x"
   },
   "outputs": [],
   "source": []
  }
 ],
 "metadata": {
  "colab": {
   "name": "Eureka.ipynb",
   "provenance": []
  },
  "kernelspec": {
   "display_name": "Python 3",
   "language": "python",
   "name": "python3"
  },
  "language_info": {
   "codemirror_mode": {
    "name": "ipython",
    "version": 3
   },
   "file_extension": ".py",
   "mimetype": "text/x-python",
   "name": "python",
   "nbconvert_exporter": "python",
   "pygments_lexer": "ipython3",
   "version": "3.8.3"
  }
 },
 "nbformat": 4,
 "nbformat_minor": 1
}
